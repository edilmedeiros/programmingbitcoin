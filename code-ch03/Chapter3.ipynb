{
 "cells": [
  {
   "cell_type": "code",
   "execution_count": 2,
   "metadata": {},
   "outputs": [],
   "source": [
    "############## PLEASE RUN THIS CELL FIRST! ###################\n",
    "\n",
    "# import everything and define a test runner function\n",
    "from importlib import reload\n",
    "from helper import run\n",
    "import ecc\n",
    "import helper\n",
    "\n",
    "from ecc import FieldElement, Point"
   ]
  },
  {
   "cell_type": "markdown",
   "metadata": {},
   "source": [
    "### Exercise 1\n",
    "\n",
    "Evaluate whether these points are on the curve \\\\(y^{2}\\\\)=\\\\(x^{3}\\\\)+7 over \\\\(F_{223}\\\\)\n",
    "\n",
    "(192,105), (17,56), (200,119), (1,193), (42,99)"
   ]
  },
  {
   "cell_type": "code",
   "execution_count": 9,
   "metadata": {},
   "outputs": [
    {
     "name": "stdout",
     "output_type": "stream",
     "text": [
      "(192, 105) is in the curve.\n",
      "(17, 56) is in the curve.\n",
      "(200, 119) is NOT in the curve.\n",
      "(1, 193) is in the curve.\n",
      "(42, 99) is NOT in the curve.\n"
     ]
    }
   ],
   "source": [
    "# Exercise 1\n",
    "\n",
    "prime = 223\n",
    "a = FieldElement(0, prime)\n",
    "b = FieldElement(7, prime)\n",
    "\n",
    "# (192,105), (17,56), (200,119), (1,193), (42,99)\n",
    "def isInCurve(fex, fey):\n",
    "    if fey**2 == fex**3 + a * fex + b:\n",
    "        return True\n",
    "    else: \n",
    "        return False\n",
    "\n",
    "def printIsInCurve(fex, fey):\n",
    "    if isInCurve(fex, fey): \n",
    "        print(f'({fex.num}, {fey.num}) is in the curve.')\n",
    "    else:\n",
    "        print(f'({fex.num}, {fey.num}) is NOT in the curve.')\n",
    "\n",
    "for (x,y) in [(192,105), (17,56), (200,119), (1,193), (42,99)]:\n",
    "    px = FieldElement(x, prime)\n",
    "    py = FieldElement(y, prime)\n",
    "    printIsInCurve(px, py)\n"
   ]
  },
  {
   "cell_type": "code",
   "execution_count": 15,
   "metadata": {},
   "outputs": [
    {
     "name": "stdout",
     "output_type": "stream",
     "text": [
      "Point(192,105)_0_7 FieldElement(223)\n"
     ]
    }
   ],
   "source": [
    "from ecc import FieldElement, Point\n",
    "a = FieldElement(num=0, prime=223)\n",
    "b = FieldElement(num=7, prime=223)\n",
    "x = FieldElement(num=192, prime=223)\n",
    "y = FieldElement(num=105, prime=223)\n",
    "p1 = Point(x, y, a, b)\n",
    "print(p1)"
   ]
  },
  {
   "cell_type": "code",
   "execution_count": 16,
   "metadata": {},
   "outputs": [
    {
     "name": "stdout",
     "output_type": "stream",
     "text": [
      "Point(170,142)_0_7 FieldElement(223)\n"
     ]
    }
   ],
   "source": [
    "from ecc import FieldElement, Point\n",
    "prime = 223\n",
    "a = FieldElement(num=0, prime=prime)\n",
    "b = FieldElement(num=7, prime=prime)\n",
    "x1 = FieldElement(num=192, prime=prime)\n",
    "y1 = FieldElement(num=105, prime=prime)\n",
    "x2 = FieldElement(num=17, prime=prime)\n",
    "y2 = FieldElement(num=56, prime=prime)\n",
    "p1 = Point(x1, y1, a, b)\n",
    "p2 = Point(x2, y2, a, b)\n",
    "print(p1+p2)"
   ]
  },
  {
   "cell_type": "markdown",
   "metadata": {},
   "source": [
    "### Exercise 2\n",
    "\n",
    "For the curve \\\\(y^{2}\\\\)=\\\\(x^{3}\\\\)+7 over \\\\(F_{223}\\\\), find:\n",
    "\n",
    "* (170,142) + (60,139)\n",
    "* (47,71) + (17,56)\n",
    "* (143,98) + (76,66)"
   ]
  },
  {
   "cell_type": "code",
   "execution_count": 18,
   "metadata": {},
   "outputs": [
    {
     "name": "stdout",
     "output_type": "stream",
     "text": [
      "Point(220,181)_0_7 FieldElement(223)\n",
      "Point(215,68)_0_7 FieldElement(223)\n",
      "Point(47,71)_0_7 FieldElement(223)\n"
     ]
    }
   ],
   "source": [
    "# Exercise 2\n",
    "\n",
    "prime = 223\n",
    "a = FieldElement(0, prime)\n",
    "b = FieldElement(7, prime)\n",
    "\n",
    "# (170,142) + (60,139)\n",
    "# (47,71) + (17,56)\n",
    "# (143,98) + (76,66)\n",
    "\n",
    "def sumPoints(x1, y1, x2, y2):\n",
    "    fex1 = FieldElement(num = x1, prime = prime)\n",
    "    fey1 = FieldElement(num = y1, prime = prime)\n",
    "    fex2 = FieldElement(num = x2, prime = prime)\n",
    "    fey2 = FieldElement(num = y2, prime = prime)\n",
    "    p1 = Point(fex1, fey1, a, b)\n",
    "    p2 = Point(fex2, fey2, a, b)\n",
    "    print(p1 + p2)\n",
    "\n",
    "sumPoints(170, 142, 60, 139)\n",
    "sumPoints(47, 71, 17, 56)\n",
    "sumPoints(143, 98, 76, 66)"
   ]
  },
  {
   "cell_type": "markdown",
   "metadata": {},
   "source": [
    "### Exercise 3\n",
    "\n",
    "Extend `ECCTest` to test for the additions from the previous exercise. Call this `test_add`.\n",
    "\n",
    "#### Make [this test](/edit/code-ch03/ecc.py) pass: `ecc.py:ECCTest:test_add`"
   ]
  },
  {
   "cell_type": "code",
   "execution_count": 20,
   "metadata": {},
   "outputs": [
    {
     "name": "stderr",
     "output_type": "stream",
     "text": [
      ".\n",
      "----------------------------------------------------------------------\n",
      "Ran 1 test in 0.001s\n",
      "\n",
      "OK\n"
     ]
    }
   ],
   "source": [
    "# Exercise 3\n",
    "\n",
    "reload(ecc)\n",
    "run(ecc.ECCTest(\"test_add\"))"
   ]
  },
  {
   "cell_type": "markdown",
   "metadata": {},
   "source": [
    "### Exercise 4\n",
    "\n",
    "For the curve \\\\(y^{2}\\\\)=\\\\(x^{3}\\\\)+7 over \\\\(F_{223}\\\\), find:\n",
    "\n",
    "* 2⋅(192,105)\n",
    "* 2⋅(143,98)\n",
    "* 2⋅(47,71)\n",
    "* 4⋅(47,71)\n",
    "* 8⋅(47,71)\n",
    "* 21⋅(47,71)"
   ]
  },
  {
   "cell_type": "code",
   "execution_count": 21,
   "metadata": {},
   "outputs": [
    {
     "name": "stdout",
     "output_type": "stream",
     "text": [
      "Point(FieldElement_223(49),FieldElement_223(71))_FieldElement_223(0)_FieldElement_223(7)\n",
      "Point(FieldElement_223(64),FieldElement_223(168))_FieldElement_223(0)_FieldElement_223(7)\n",
      "Point(FieldElement_223(36),FieldElement_223(111))_FieldElement_223(0)_FieldElement_223(7)\n",
      "Point(FieldElement_223(194),FieldElement_223(51))_FieldElement_223(0)_FieldElement_223(7)\n",
      "Point(FieldElement_223(116),FieldElement_223(55))_FieldElement_223(0)_FieldElement_223(7)\n",
      "Point(infinity)\n"
     ]
    }
   ],
   "source": [
    "# Exercise 4\n",
    "\n",
    "prime = 223\n",
    "a = FieldElement(0, prime)\n",
    "b = FieldElement(7, prime)\n",
    "\n",
    "# 2*(192, 105)\n",
    "# 2*(143, 98)\n",
    "# 2*(47, 71)\n",
    "# 4*(47, 71)\n",
    "# 8*(47, 71)\n",
    "# 21*(47, 71)\n",
    "\n",
    "# create a product variable\n",
    "# add the point to the product n times\n",
    "# print the product\n",
    "\n",
    "def mult(x_raw, y_raw, scalar):\n",
    "    x = FieldElement(x_raw, prime)\n",
    "    y = FieldElement(y_raw, prime)\n",
    "    p = Point(x, y, a, b)\n",
    "    result = scalar * p\n",
    "    print(result)\n",
    "\n",
    "for (scalar, x, y) in [(2, 192, 105), (2,143, 98), (2, 47, 71), (4, 47, 71), (8, 47, 71), (21, 47, 71)]:\n",
    "    mult(x, y, scalar)\n",
    "\n",
    "\n"
   ]
  },
  {
   "cell_type": "code",
   "execution_count": 26,
   "metadata": {},
   "outputs": [
    {
     "name": "stdout",
     "output_type": "stream",
     "text": [
      "1*(47,71)=(FieldElement_223(47),FieldElement_223(71))\n",
      "2*(47,71)=(FieldElement_223(36),FieldElement_223(111))\n",
      "3*(47,71)=(FieldElement_223(15),FieldElement_223(137))\n",
      "4*(47,71)=(FieldElement_223(194),FieldElement_223(51))\n",
      "5*(47,71)=(FieldElement_223(126),FieldElement_223(96))\n",
      "6*(47,71)=(FieldElement_223(139),FieldElement_223(137))\n",
      "7*(47,71)=(FieldElement_223(92),FieldElement_223(47))\n",
      "8*(47,71)=(FieldElement_223(116),FieldElement_223(55))\n",
      "9*(47,71)=(FieldElement_223(69),FieldElement_223(86))\n",
      "10*(47,71)=(FieldElement_223(154),FieldElement_223(150))\n",
      "11*(47,71)=(FieldElement_223(154),FieldElement_223(73))\n",
      "12*(47,71)=(FieldElement_223(69),FieldElement_223(137))\n",
      "13*(47,71)=(FieldElement_223(116),FieldElement_223(168))\n",
      "14*(47,71)=(FieldElement_223(92),FieldElement_223(176))\n",
      "15*(47,71)=(FieldElement_223(139),FieldElement_223(86))\n",
      "16*(47,71)=(FieldElement_223(126),FieldElement_223(127))\n",
      "17*(47,71)=(FieldElement_223(194),FieldElement_223(172))\n",
      "18*(47,71)=(FieldElement_223(15),FieldElement_223(86))\n",
      "19*(47,71)=(FieldElement_223(36),FieldElement_223(112))\n",
      "20*(47,71)=(FieldElement_223(47),FieldElement_223(152))\n",
      "21*(47,71)=(None,None)\n",
      "22*(47,71)=(FieldElement_223(47),FieldElement_223(71))\n",
      "23*(47,71)=(FieldElement_223(36),FieldElement_223(111))\n",
      "24*(47,71)=(FieldElement_223(15),FieldElement_223(137))\n",
      "25*(47,71)=(FieldElement_223(194),FieldElement_223(51))\n",
      "26*(47,71)=(FieldElement_223(126),FieldElement_223(96))\n",
      "27*(47,71)=(FieldElement_223(139),FieldElement_223(137))\n",
      "28*(47,71)=(FieldElement_223(92),FieldElement_223(47))\n",
      "29*(47,71)=(FieldElement_223(116),FieldElement_223(55))\n",
      "30*(47,71)=(FieldElement_223(69),FieldElement_223(86))\n",
      "31*(47,71)=(FieldElement_223(154),FieldElement_223(150))\n",
      "32*(47,71)=(FieldElement_223(154),FieldElement_223(73))\n",
      "33*(47,71)=(FieldElement_223(69),FieldElement_223(137))\n",
      "34*(47,71)=(FieldElement_223(116),FieldElement_223(168))\n",
      "35*(47,71)=(FieldElement_223(92),FieldElement_223(176))\n",
      "36*(47,71)=(FieldElement_223(139),FieldElement_223(86))\n",
      "37*(47,71)=(FieldElement_223(126),FieldElement_223(127))\n",
      "38*(47,71)=(FieldElement_223(194),FieldElement_223(172))\n",
      "39*(47,71)=(FieldElement_223(15),FieldElement_223(86))\n",
      "40*(47,71)=(FieldElement_223(36),FieldElement_223(112))\n",
      "41*(47,71)=(FieldElement_223(47),FieldElement_223(152))\n",
      "42*(47,71)=(None,None)\n"
     ]
    }
   ],
   "source": [
    "from ecc import FieldElement, Point\n",
    "prime = 223\n",
    "a = FieldElement(0, prime)\n",
    "b = FieldElement(7, prime)\n",
    "x = FieldElement(47, prime)\n",
    "y = FieldElement(71, prime)\n",
    "p = Point(x, y, a, b)\n",
    "for s in range(1,43):\n",
    "    result = s*p\n",
    "    print('{}*(47,71)=({},{})'.format(s,result.x,result.y))\n",
    "\n",
    "# Points form a repeating sequence... "
   ]
  },
  {
   "cell_type": "markdown",
   "metadata": {},
   "source": [
    "### Exercise 5\n",
    "\n",
    "For the curve \\\\(y^{2}\\\\)=\\\\(x^{3}\\\\)+7 over \\\\(F_{223}\\\\), find the order of the group generated by (15,86)"
   ]
  },
  {
   "cell_type": "code",
   "execution_count": 49,
   "metadata": {},
   "outputs": [
    {
     "name": "stdout",
     "output_type": "stream",
     "text": [
      "Total points in the EC Curve: 251\n",
      "(0, 26) \t generates group of size 3.\n",
      "(0, 197) \t generates group of size 3.\n",
      "(1, 30) \t generates group of size 21.\n",
      "(1, 193) \t generates group of size 21.\n",
      "(2, 98) \t generates group of size 42.\n",
      "(2, 125) \t generates group of size 42.\n",
      "(3, 82) \t generates group of size 42.\n",
      "(3, 141) \t generates group of size 42.\n",
      "(5, 32) \t generates group of size 42.\n",
      "(5, 191) \t generates group of size 42.\n",
      "(6, 0) \t generates group of size 2.\n",
      "(7, 57) \t generates group of size 42.\n",
      "(7, 166) \t generates group of size 42.\n",
      "(8, 96) \t generates group of size 21.\n",
      "(8, 127) \t generates group of size 21.\n",
      "(10, 28) \t generates group of size 14.\n",
      "(10, 195) \t generates group of size 14.\n",
      "(11, 0) \t generates group of size 2.\n",
      "(13, 33) \t generates group of size 21.\n",
      "(13, 190) \t generates group of size 21.\n",
      "(15, 86) \t generates group of size 7.\n",
      "(15, 137) \t generates group of size 7.\n",
      "(16, 85) \t generates group of size 42.\n",
      "(16, 138) \t generates group of size 42.\n",
      "(17, 56) \t generates group of size 42.\n",
      "(17, 167) \t generates group of size 42.\n",
      "(18, 34) \t generates group of size 14.\n",
      "(18, 189) \t generates group of size 14.\n",
      "(20, 47) \t generates group of size 3.\n",
      "(20, 176) \t generates group of size 3.\n",
      "(23, 32) \t generates group of size 42.\n",
      "(23, 191) \t generates group of size 42.\n",
      "(27, 17) \t generates group of size 42.\n",
      "(27, 206) \t generates group of size 42.\n",
      "(28, 95) \t generates group of size 6.\n",
      "(28, 128) \t generates group of size 6.\n",
      "(29, 85) \t generates group of size 42.\n",
      "(29, 138) \t generates group of size 42.\n",
      "(31, 94) \t generates group of size 14.\n",
      "(31, 129) \t generates group of size 14.\n",
      "(32, 70) \t generates group of size 6.\n",
      "(32, 153) \t generates group of size 6.\n",
      "(33, 34) \t generates group of size 14.\n",
      "(33, 189) \t generates group of size 14.\n",
      "(34, 78) \t generates group of size 6.\n",
      "(34, 145) \t generates group of size 6.\n",
      "(35, 17) \t generates group of size 42.\n",
      "(35, 206) \t generates group of size 42.\n",
      "(36, 111) \t generates group of size 21.\n",
      "(36, 112) \t generates group of size 21.\n",
      "(37, 40) \t generates group of size 42.\n",
      "(37, 183) \t generates group of size 42.\n",
      "(39, 30) \t generates group of size 21.\n",
      "(39, 193) \t generates group of size 21.\n",
      "(43, 55) \t generates group of size 21.\n",
      "(43, 168) \t generates group of size 21.\n",
      "(45, 51) \t generates group of size 21.\n",
      "(45, 172) \t generates group of size 21.\n",
      "(46, 28) \t generates group of size 14.\n",
      "(46, 195) \t generates group of size 14.\n",
      "(47, 71) \t generates group of size 21.\n",
      "(47, 152) \t generates group of size 21.\n",
      "(49, 71) \t generates group of size 21.\n",
      "(49, 152) \t generates group of size 21.\n",
      "(50, 57) \t generates group of size 42.\n",
      "(50, 166) \t generates group of size 42.\n",
      "(51, 14) \t generates group of size 42.\n",
      "(51, 209) \t generates group of size 42.\n",
      "(53, 84) \t generates group of size 42.\n",
      "(53, 139) \t generates group of size 42.\n",
      "(54, 16) \t generates group of size 42.\n",
      "(54, 207) \t generates group of size 42.\n",
      "(57, 35) \t generates group of size 6.\n",
      "(57, 188) \t generates group of size 6.\n",
      "(58, 70) \t generates group of size 6.\n",
      "(58, 153) \t generates group of size 6.\n",
      "(60, 84) \t generates group of size 42.\n",
      "(60, 139) \t generates group of size 42.\n",
      "(61, 33) \t generates group of size 21.\n",
      "(61, 190) \t generates group of size 21.\n",
      "(62, 49) \t generates group of size 42.\n",
      "(62, 174) \t generates group of size 42.\n",
      "(64, 55) \t generates group of size 21.\n",
      "(64, 168) \t generates group of size 21.\n",
      "(65, 66) \t generates group of size 42.\n",
      "(65, 157) \t generates group of size 42.\n",
      "(66, 111) \t generates group of size 21.\n",
      "(66, 112) \t generates group of size 21.\n",
      "(67, 101) \t generates group of size 42.\n",
      "(67, 122) \t generates group of size 42.\n",
      "(68, 3) \t generates group of size 42.\n",
      "(68, 220) \t generates group of size 42.\n",
      "(69, 86) \t generates group of size 7.\n",
      "(69, 137) \t generates group of size 7.\n",
      "(70, 16) \t generates group of size 42.\n",
      "(70, 207) \t generates group of size 42.\n",
      "(73, 104) \t generates group of size 42.\n",
      "(73, 119) \t generates group of size 42.\n",
      "(76, 66) \t generates group of size 42.\n",
      "(76, 157) \t generates group of size 42.\n",
      "(78, 98) \t generates group of size 42.\n",
      "(78, 125) \t generates group of size 42.\n",
      "(81, 40) \t generates group of size 42.\n",
      "(81, 183) \t generates group of size 42.\n",
      "(82, 66) \t generates group of size 42.\n",
      "(82, 157) \t generates group of size 42.\n",
      "(84, 73) \t generates group of size 21.\n",
      "(84, 150) \t generates group of size 21.\n",
      "(85, 92) \t generates group of size 42.\n",
      "(85, 131) \t generates group of size 42.\n",
      "(89, 96) \t generates group of size 21.\n",
      "(89, 127) \t generates group of size 21.\n",
      "(92, 47) \t generates group of size 3.\n",
      "(92, 176) \t generates group of size 3.\n",
      "(94, 94) \t generates group of size 14.\n",
      "(94, 129) \t generates group of size 14.\n",
      "(97, 68) \t generates group of size 42.\n",
      "(97, 155) \t generates group of size 42.\n",
      "(98, 94) \t generates group of size 14.\n",
      "(98, 129) \t generates group of size 14.\n",
      "(99, 16) \t generates group of size 42.\n",
      "(99, 207) \t generates group of size 42.\n",
      "(102, 36) \t generates group of size 42.\n",
      "(102, 187) \t generates group of size 42.\n",
      "(103, 82) \t generates group of size 42.\n",
      "(103, 141) \t generates group of size 42.\n",
      "(105, 40) \t generates group of size 42.\n",
      "(105, 183) \t generates group of size 42.\n",
      "(106, 42) \t generates group of size 42.\n",
      "(106, 181) \t generates group of size 42.\n",
      "(110, 84) \t generates group of size 42.\n",
      "(110, 139) \t generates group of size 42.\n",
      "(111, 47) \t generates group of size 3.\n",
      "(111, 176) \t generates group of size 3.\n",
      "(113, 81) \t generates group of size 42.\n",
      "(113, 142) \t generates group of size 42.\n",
      "(114, 88) \t generates group of size 42.\n",
      "(114, 135) \t generates group of size 42.\n",
      "(116, 55) \t generates group of size 21.\n",
      "(116, 168) \t generates group of size 21.\n",
      "(117, 82) \t generates group of size 42.\n",
      "(117, 141) \t generates group of size 42.\n",
      "(119, 63) \t generates group of size 42.\n",
      "(119, 160) \t generates group of size 42.\n",
      "(120, 42) \t generates group of size 42.\n",
      "(120, 181) \t generates group of size 42.\n",
      "(121, 111) \t generates group of size 21.\n",
      "(121, 112) \t generates group of size 21.\n",
      "(123, 88) \t generates group of size 42.\n",
      "(123, 135) \t generates group of size 42.\n",
      "(125, 105) \t generates group of size 42.\n",
      "(125, 118) \t generates group of size 42.\n",
      "(126, 96) \t generates group of size 21.\n",
      "(126, 127) \t generates group of size 21.\n",
      "(127, 71) \t generates group of size 21.\n",
      "(127, 152) \t generates group of size 21.\n",
      "(129, 105) \t generates group of size 42.\n",
      "(129, 118) \t generates group of size 42.\n",
      "(133, 70) \t generates group of size 6.\n",
      "(133, 153) \t generates group of size 6.\n",
      "(134, 68) \t generates group of size 42.\n",
      "(134, 155) \t generates group of size 42.\n",
      "(139, 86) \t generates group of size 7.\n",
      "(139, 137) \t generates group of size 7.\n",
      "(143, 98) \t generates group of size 42.\n",
      "(143, 125) \t generates group of size 42.\n",
      "(146, 63) \t generates group of size 42.\n",
      "(146, 160) \t generates group of size 42.\n",
      "(149, 33) \t generates group of size 21.\n",
      "(149, 190) \t generates group of size 21.\n",
      "(154, 73) \t generates group of size 21.\n",
      "(154, 150) \t generates group of size 21.\n",
      "(157, 36) \t generates group of size 42.\n",
      "(157, 187) \t generates group of size 42.\n",
      "(160, 101) \t generates group of size 42.\n",
      "(160, 122) \t generates group of size 42.\n",
      "(161, 17) \t generates group of size 42.\n",
      "(161, 206) \t generates group of size 42.\n",
      "(163, 81) \t generates group of size 42.\n",
      "(163, 142) \t generates group of size 42.\n",
      "(166, 57) \t generates group of size 42.\n",
      "(166, 166) \t generates group of size 42.\n",
      "(167, 28) \t generates group of size 14.\n",
      "(167, 195) \t generates group of size 14.\n",
      "(168, 92) \t generates group of size 42.\n",
      "(168, 131) \t generates group of size 42.\n",
      "(170, 81) \t generates group of size 42.\n",
      "(170, 142) \t generates group of size 42.\n",
      "(171, 104) \t generates group of size 42.\n",
      "(171, 119) \t generates group of size 42.\n",
      "(172, 34) \t generates group of size 14.\n",
      "(172, 189) \t generates group of size 14.\n",
      "(173, 35) \t generates group of size 6.\n",
      "(173, 188) \t generates group of size 6.\n",
      "(178, 85) \t generates group of size 42.\n",
      "(178, 138) \t generates group of size 42.\n",
      "(179, 3) \t generates group of size 42.\n",
      "(179, 220) \t generates group of size 42.\n",
      "(181, 63) \t generates group of size 42.\n",
      "(181, 160) \t generates group of size 42.\n",
      "(183, 30) \t generates group of size 21.\n",
      "(183, 193) \t generates group of size 21.\n",
      "(187, 36) \t generates group of size 42.\n",
      "(187, 187) \t generates group of size 42.\n",
      "(188, 49) \t generates group of size 42.\n",
      "(188, 174) \t generates group of size 42.\n",
      "(190, 14) \t generates group of size 42.\n",
      "(190, 209) \t generates group of size 42.\n",
      "(192, 105) \t generates group of size 42.\n",
      "(192, 118) \t generates group of size 42.\n",
      "(193, 92) \t generates group of size 42.\n",
      "(193, 131) \t generates group of size 42.\n",
      "(194, 51) \t generates group of size 21.\n",
      "(194, 172) \t generates group of size 21.\n",
      "(195, 32) \t generates group of size 42.\n",
      "(195, 191) \t generates group of size 42.\n",
      "(196, 49) \t generates group of size 42.\n",
      "(196, 174) \t generates group of size 42.\n",
      "(199, 3) \t generates group of size 42.\n",
      "(199, 220) \t generates group of size 42.\n",
      "(200, 95) \t generates group of size 6.\n",
      "(200, 128) \t generates group of size 6.\n",
      "(201, 78) \t generates group of size 6.\n",
      "(201, 145) \t generates group of size 6.\n",
      "(202, 104) \t generates group of size 42.\n",
      "(202, 119) \t generates group of size 42.\n",
      "(205, 14) \t generates group of size 42.\n",
      "(205, 209) \t generates group of size 42.\n",
      "(206, 0) \t generates group of size 2.\n",
      "(207, 51) \t generates group of size 21.\n",
      "(207, 172) \t generates group of size 21.\n",
      "(208, 73) \t generates group of size 21.\n",
      "(208, 150) \t generates group of size 21.\n",
      "(209, 88) \t generates group of size 42.\n",
      "(209, 135) \t generates group of size 42.\n",
      "(211, 78) \t generates group of size 6.\n",
      "(211, 145) \t generates group of size 6.\n",
      "(212, 56) \t generates group of size 42.\n",
      "(212, 167) \t generates group of size 42.\n",
      "(215, 68) \t generates group of size 42.\n",
      "(215, 155) \t generates group of size 42.\n",
      "(216, 35) \t generates group of size 6.\n",
      "(216, 188) \t generates group of size 6.\n",
      "(217, 56) \t generates group of size 42.\n",
      "(217, 167) \t generates group of size 42.\n",
      "(218, 95) \t generates group of size 6.\n",
      "(218, 128) \t generates group of size 6.\n",
      "(219, 101) \t generates group of size 42.\n",
      "(219, 122) \t generates group of size 42.\n",
      "(220, 42) \t generates group of size 42.\n",
      "(220, 181) \t generates group of size 42.\n"
     ]
    }
   ],
   "source": [
    "# Exercise 5\n",
    "\n",
    "prime = 223\n",
    "a = FieldElement(0, prime)\n",
    "b = FieldElement(7, prime)\n",
    "\n",
    "ecPoints = list()\n",
    "for x in range(0,prime):\n",
    "    for y in range(0,prime):\n",
    "        try:\n",
    "            p = Point(FieldElement(x, prime), FieldElement(y, prime), a, b)\n",
    "            ecPoints.append(p)\n",
    "        except:\n",
    "            pass\n",
    "\n",
    "print(f'Total points in the EC Curve: {len(ecPoints)}')\n",
    "\n",
    "## Different generators create groups of different sizes\n",
    "# x = FieldElement(15, prime)\n",
    "# y = FieldElement(86, prime)\n",
    "# x = FieldElement(220, prime)\n",
    "# y = FieldElement(181, prime)\n",
    "\n",
    "# p = Point(x, y, a, b)\n",
    "inf = Point(None, None, a, b)\n",
    "\n",
    "# create a product variable\n",
    "# create a counter variable\n",
    "# loop until the product is the point at infinity\n",
    "# add the point to the product and increment counter\n",
    "# print the counter when exited from loop\n",
    "\n",
    "for p in ecPoints:\n",
    "    prod = p\n",
    "    count = 1\n",
    "\n",
    "    while prod != inf:\n",
    "        count += 1\n",
    "        prod += p\n",
    "\n",
    "    print(f'({p.x.num}, {p.y.num}) \\t generates group of size {count}.')\n",
    "    #print(count)\n"
   ]
  },
  {
   "cell_type": "code",
   "execution_count": 50,
   "metadata": {},
   "outputs": [
    {
     "name": "stdout",
     "output_type": "stream",
     "text": [
      "Point(infinity)\n"
     ]
    }
   ],
   "source": [
    "from ecc import FieldElement, Point\n",
    "prime = 223\n",
    "a = FieldElement(0, prime)\n",
    "b = FieldElement(7, prime)\n",
    "x = FieldElement(15, prime)\n",
    "y = FieldElement(86, prime)\n",
    "p = Point(x, y, a, b)\n",
    "print(7*p)"
   ]
  },
  {
   "cell_type": "code",
   "execution_count": 51,
   "metadata": {},
   "outputs": [
    {
     "name": "stdout",
     "output_type": "stream",
     "text": [
      "True\n"
     ]
    }
   ],
   "source": [
    "gx = 0x79be667ef9dcbbac55a06295ce870b07029bfcdb2dce28d959f2815b16f81798\n",
    "gy = 0x483ada7726a3c4655da4fbfc0e1108a8fd17b448a68554199c47d08ffb10d4b8\n",
    "p = 2**256 - 2**32 - 977\n",
    "print(gy**2 % p == (gx**3 + 7) % p)"
   ]
  },
  {
   "cell_type": "code",
   "execution_count": 52,
   "metadata": {},
   "outputs": [
    {
     "name": "stdout",
     "output_type": "stream",
     "text": [
      "Point(infinity)\n"
     ]
    }
   ],
   "source": [
    "from ecc import FieldElement, Point\n",
    "gx = 0x79be667ef9dcbbac55a06295ce870b07029bfcdb2dce28d959f2815b16f81798\n",
    "gy = 0x483ada7726a3c4655da4fbfc0e1108a8fd17b448a68554199c47d08ffb10d4b8\n",
    "p = 2**256 - 2**32 - 977\n",
    "n = 0xfffffffffffffffffffffffffffffffebaaedce6af48a03bbfd25e8cd0364141\n",
    "x = FieldElement(gx, p)\n",
    "y = FieldElement(gy, p)\n",
    "seven = FieldElement(7, p)\n",
    "zero = FieldElement(0, p)\n",
    "G = Point(x, y, zero, seven)\n",
    "print(n*G)"
   ]
  },
  {
   "cell_type": "code",
   "execution_count": 53,
   "metadata": {},
   "outputs": [
    {
     "name": "stdout",
     "output_type": "stream",
     "text": [
      "S256Point(infinity)\n"
     ]
    }
   ],
   "source": [
    "from ecc import G, N\n",
    "print(N*G)"
   ]
  },
  {
   "cell_type": "code",
   "execution_count": 57,
   "metadata": {},
   "outputs": [
    {
     "name": "stdout",
     "output_type": "stream",
     "text": [
      "True\n"
     ]
    }
   ],
   "source": [
    "from ecc import S256Point, G, N\n",
    "z = 0xbc62d4b80d9e36da29c16c5d4d9f11731f36052c72401a76c23c0fb5a9b74423\n",
    "r = 0x37206a0610995c58074999cb9767b87af4c4978db68c06e8e6e81d282047a7c6\n",
    "s = 0x8ca63759c1157ebeaec0d03cecca119fc9a75bf8e6d0fa65c841c8e2738cdaec\n",
    "px = 0x04519fac3d910ca7e7138f7013706f619fa8f033e6ec6e09370ea38cee6a7574\n",
    "py = 0x82b51eab8c27c66e26c858a079bcdf4f1ada34cec420cafc7eac1a42216fb6c4\n",
    "point = S256Point(px, py)\n",
    "s_inv = pow(s, N-2, N)\n",
    "u = z * s_inv % N\n",
    "v = r * s_inv % N\n",
    "print((u*G + v*point).x.num == r)"
   ]
  },
  {
   "cell_type": "markdown",
   "metadata": {},
   "source": [
    "### Exercise 6\n",
    "\n",
    "Verify whether these signatures are valid:\n",
    "\n",
    "```\n",
    "P = (0x887387e452b8eacc4acfde10d9aaf7f6d9a0f975aabb10d006e4da568744d06c,\n",
    "0x61de6d95231cd89026e286df3b6ae4a894a3378e393e93a0f45b666329a0ae34)\n",
    "\n",
    "# signature 1\n",
    "z = 0xec208baa0fc1c19f708a9ca96fdeff3ac3f230bb4a7ba4aede4942ad003c0f60\n",
    "r = 0xac8d1c87e51d0d441be8b3dd5b05c8795b48875dffe00b7ffcfac23010d3a395\n",
    "s = 0x68342ceff8935ededd102dd876ffd6ba72d6a427a3edb13d26eb0781cb423c4\n",
    "\n",
    "# signature 2\n",
    "z = 0x7c076ff316692a3d7eb3c3bb0f8b1488cf72e1afcd929e29307032997a838a3d\n",
    "r = 0xeff69ef2b1bd93a66ed5219add4fb51e11a840f404876325a1e8ffe0529a2c\n",
    "s = 0xc7207fee197d27c618aea621406f6bf5ef6fca38681d82b2f06fddbdce6feab6\n",
    "```"
   ]
  },
  {
   "cell_type": "code",
   "execution_count": 62,
   "metadata": {},
   "outputs": [
    {
     "name": "stdout",
     "output_type": "stream",
     "text": [
      "True\n",
      "True\n"
     ]
    }
   ],
   "source": [
    "# Exercise 6\n",
    "\n",
    "point = S256Point(\n",
    "    0x887387e452b8eacc4acfde10d9aaf7f6d9a0f975aabb10d006e4da568744d06c, \n",
    "    0x61de6d95231cd89026e286df3b6ae4a894a3378e393e93a0f45b666329a0ae34)\n",
    "\n",
    "def verify_signature(pk, message_digest, r, s):\n",
    "    s_inv = pow(s, N-2, N)\n",
    "    u = message_digest * s_inv % N\n",
    "    v = r * s_inv % N\n",
    "    return (u*G + v*pk).x.num == r\n",
    "\n",
    "# signature 1\n",
    "z = 0xec208baa0fc1c19f708a9ca96fdeff3ac3f230bb4a7ba4aede4942ad003c0f60\n",
    "r = 0xac8d1c87e51d0d441be8b3dd5b05c8795b48875dffe00b7ffcfac23010d3a395\n",
    "s = 0x68342ceff8935ededd102dd876ffd6ba72d6a427a3edb13d26eb0781cb423c4\n",
    "print(verify_signature(point, z, r, s))\n",
    "\n",
    "# signature 2\n",
    "z = 0x7c076ff316692a3d7eb3c3bb0f8b1488cf72e1afcd929e29307032997a838a3d\n",
    "r = 0xeff69ef2b1bd93a66ed5219add4fb51e11a840f404876325a1e8ffe0529a2c\n",
    "s = 0xc7207fee197d27c618aea621406f6bf5ef6fca38681d82b2f06fddbdce6feab6\n",
    "print(verify_signature(point, z, r, s))"
   ]
  },
  {
   "cell_type": "code",
   "execution_count": 63,
   "metadata": {},
   "outputs": [
    {
     "name": "stdout",
     "output_type": "stream",
     "text": [
      "S256Point(028d003eab2e428d11983f3e97c3fa0addf3b42740df0d211795ffb3be2f6c52, 0ae987b9ec6ea159c78cb2a937ed89096fb218d9e7594f02b547526d8cd309e2)\n",
      "0x231c6f3d980a6b0fb7152f85cee7eb52bf92433d9919b9c5218cb08e79cce78\n",
      "0x2b698a0f0a4041b77e63488ad48c23e8e8838dd1fb7520408b121697b782ef22\n",
      "0xbb14e602ef9e3f872e25fad328466b34e6734b7a0fcd58b1eb635447ffae8cb9\n"
     ]
    }
   ],
   "source": [
    "from ecc import S256Point, G, N\n",
    "from helper import hash256\n",
    "e = int.from_bytes(hash256(b'my secret'), 'big')\n",
    "z = int.from_bytes(hash256(b'my message'), 'big')\n",
    "k = 1234567890\n",
    "r = (k*G).x.num\n",
    "k_inv = pow(k, N-2, N)\n",
    "s = (z+r*e) * k_inv % N\n",
    "point = e*G\n",
    "print(point)\n",
    "print(hex(z))\n",
    "print(hex(r))\n",
    "print(hex(s))"
   ]
  },
  {
   "cell_type": "markdown",
   "metadata": {},
   "source": [
    "### Exercise 7\n",
    "\n",
    "Sign the following message with the secret\n",
    "\n",
    "```\n",
    "e = 12345\n",
    "z = int.from_bytes(hash256('Programming Bitcoin!'), 'big')\n",
    "```"
   ]
  },
  {
   "cell_type": "code",
   "execution_count": 65,
   "metadata": {},
   "outputs": [
    {
     "name": "stdout",
     "output_type": "stream",
     "text": [
      "S256Point(f01d6b9018ab421dd410404cb869072065522bf85734008f105cf385a023a80f, 0eba29d0f0c5408ed681984dc525982abefccd9f7ff01dd26da4999cf3f6a295)\n",
      "0x969f6056aa26f7d2795fd013fe88868d09c9f6aed96965016e1936ae47060d48\n",
      "0x2b698a0f0a4041b77e63488ad48c23e8e8838dd1fb7520408b121697b782ef22\n",
      "0x1dbc63bfef4416705e602a7b564161167076d8b20990a0f26f316cff2cb0bc1a\n"
     ]
    }
   ],
   "source": [
    "# Exercise 7\n",
    "\n",
    "# Exercise 7\n",
    "\n",
    "e = 12345\n",
    "z = int.from_bytes(hash256(b'Programming Bitcoin!'), 'big')\n",
    "\n",
    "# choose a random k\n",
    "# calculate r (kG's x-coordinate)\n",
    "# calculate s ((z+re)/k)\n",
    "# print the point, z, r and s\n",
    "\n",
    "k = 1234567890\n",
    "r = (k*G).x.num\n",
    "k_inv = pow(k, N-2, N)\n",
    "s = (z + r*e) * k_inv % N\n",
    "pk = e*G\n",
    "\n",
    "print(pk)\n",
    "print(hex(z))\n",
    "print(hex(r))\n",
    "print(hex(s))\n"
   ]
  }
 ],
 "metadata": {
  "kernelspec": {
   "display_name": "Python 3 (ipykernel)",
   "language": "python",
   "name": "python3"
  },
  "language_info": {
   "codemirror_mode": {
    "name": "ipython",
    "version": 3
   },
   "file_extension": ".py",
   "mimetype": "text/x-python",
   "name": "python",
   "nbconvert_exporter": "python",
   "pygments_lexer": "ipython3",
   "version": "3.10.13"
  }
 },
 "nbformat": 4,
 "nbformat_minor": 4
}
